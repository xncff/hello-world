{
  "nbformat": 4,
  "nbformat_minor": 0,
  "metadata": {
    "colab": {
      "provenance": []
    },
    "kernelspec": {
      "name": "python3",
      "display_name": "Python 3 (ipykernel)",
      "language": "python"
    },
    "language_info": {
      "name": "python"
    }
  },
  "cells": [
    {
      "cell_type": "markdown",
      "source": [
        "# I. Змінні та памʼять."
      ],
      "metadata": {
        "id": "cd47fec85ee6357d"
      }
    },
    {
      "cell_type": "markdown",
      "source": [
        "1. Створити змінні, що посилаються на два цілих числа, що однакові за значенням, де значення належить проміжку від -5 до 256. Перевірте, чи будуть ці змінні рівні тільки за значенням або ж ще будуть посилатися на один і той самий обʼєкт в памʼяті? Наведіть код та дайте текстову відповідь нижче."
      ],
      "metadata": {
        "id": "855d8836b056648f"
      }
    },
    {
      "cell_type": "code",
      "metadata": {
        "id": "838ae56a634efae5"
      },
      "source": [
        "var1 = 5\n",
        "var2 = 5\n",
        "print(id(var1), id(var2))"
      ],
      "outputs": [],
      "execution_count": null
    },
    {
      "cell_type": "markdown",
      "source": [
        "У Python значення у діапазоні від -5 до 256 створюються заздалегідь і повторно використовуються."
      ],
      "metadata": {
        "id": "cba9026b2c363b95"
      }
    },
    {
      "cell_type": "markdown",
      "source": [
        "2. За допомогою якої функції можна перевірити належність змінної до вказаного типу даних (напр. чи змінна True посилається на значення булевого та цілочисленого типу)?"
      ],
      "metadata": {
        "id": "4f4163a4a5fa7c77"
      }
    },
    {
      "cell_type": "code",
      "source": [
        "bool_var = False\n",
        "print(\"Is bool variable an instance of bool type?    \", isinstance(bool_var, bool))\n",
        "print(\"Is bool variable an instance of numeric type? \", isinstance(bool_var, int))"
      ],
      "metadata": {
        "id": "c6e7d097fb6f3db9"
      },
      "execution_count": null,
      "outputs": []
    },
    {
      "cell_type": "markdown",
      "source": [
        "# II. Цілі числа та числа з рухомою комою"
      ],
      "metadata": {
        "id": "10646567e8014621"
      }
    },
    {
      "cell_type": "markdown",
      "source": [
        "3. Створити дві змінні, що посилаються на будь-які ціле число та число з рухомою комою та продемонструвати такі арифметичні операції: додавання, віднімання, ділення, множення, ділення без залишку, ділення по модулю, приведення до ступеню. Всі результати операцій вивести на екран."
      ],
      "metadata": {
        "id": "f8ee2c6f1c0197e7"
      }
    },
    {
      "cell_type": "code",
      "source": [
        "int_var = 5\n",
        "float_var = 0.1\n",
        "print(int_var, \" + \", float_var, \" = \", int_var + float_var)\n",
        "print(int_var, \" - \", float_var, \" = \", int_var - float_var)\n",
        "print(int_var, \" / \", float_var, \" = \", int_var / float_var)\n",
        "print(int_var, \" * \", float_var, \" = \", int_var * float_var)\n",
        "print(int_var, \" // \", float_var, \" = \", int_var // float_var)\n",
        "print(int_var, \" % \", float_var, \" = \", int_var % float_var)\n",
        "print(int_var, \" ** \", float_var, \" = \", int_var ** float_var)"
      ],
      "metadata": {
        "id": "4fbf93370e6ae7d1",
        "ExecuteTime": {
          "end_time": "2025-02-23T18:18:06.545184Z",
          "start_time": "2025-02-23T18:18:06.540978Z"
        },
        "outputId": "f6592479-0272-4f9f-c310-69c45150c9df"
      },
      "outputs": [
        {
          "name": "stdout",
          "output_type": "stream",
          "text": [
            "5  +  0.1  =  5.1\n",
            "5  -  0.1  =  4.9\n",
            "5  /  0.1  =  50.0\n",
            "5  *  0.1  =  0.5\n",
            "5  //  0.1  =  49.0\n",
            "5  %  0.1  =  0.09999999999999973\n",
            "5  **  0.1  =  1.174618943088019\n"
          ]
        }
      ],
      "execution_count": null
    },
    {
      "cell_type": "markdown",
      "source": [
        "4. Використовуючи змінні з вправи 3, продемонструйте механізм явного перетворення типів, де числа з рухомою комою перетворюються на цілі числа. Також визначте змінну, що посилається на значення булевого типу і спробуйте явно привести її до цілого числа."
      ],
      "metadata": {
        "id": "f3902475f27e4ef0"
      }
    },
    {
      "cell_type": "code",
      "source": [
        "int_var = 5\n",
        "float_var = 0.1\n",
        "print(float_var, \"to integer: \", int(float_var))\n",
        "\n",
        "bool_var = True\n",
        "print(bool_var, \"to integer: \", int(bool_var))"
      ],
      "metadata": {
        "id": "70dd9868746f42f3",
        "ExecuteTime": {
          "end_time": "2025-02-23T18:17:58.161813Z",
          "start_time": "2025-02-23T18:17:58.158412Z"
        },
        "outputId": "883267f5-7fef-4a17-fa30-0db7a101d1f0"
      },
      "outputs": [
        {
          "name": "stdout",
          "output_type": "stream",
          "text": [
            "0.1 to integer:  0\n",
            "True to integer:  1\n"
          ]
        }
      ],
      "execution_count": null
    },
    {
      "cell_type": "markdown",
      "source": [
        "# IІІ. Рядки (String)."
      ],
      "metadata": {
        "id": "e826dd8a94b939cb"
      }
    },
    {
      "cell_type": "markdown",
      "source": [
        "5. Створити пустий рядок двома різними способами."
      ],
      "metadata": {
        "id": "28fb1331d97acff3"
      }
    },
    {
      "cell_type": "code",
      "source": [
        "empty_string1 = \"\"\n",
        "empty_string2 = str()"
      ],
      "metadata": {
        "id": "df02a39cdb46549"
      },
      "execution_count": null,
      "outputs": []
    },
    {
      "cell_type": "markdown",
      "source": [
        "6. Створити рядок з апострофом. Зробити його сирим. Вивести обидва рядка на екран."
      ],
      "metadata": {
        "id": "2370f4f38b2e1858"
      }
    },
    {
      "cell_type": "code",
      "source": [
        "ordinary_string = \"everybody's\"\n",
        "raw_string = r\"everybody's\"\n",
        "\n",
        "print(\"Ordinary string with apostrophe: \", ordinary_string)\n",
        "print(\"Raw string with apostrophe: \", raw_string)"
      ],
      "metadata": {
        "id": "8ad19354a9ccaa8c"
      },
      "execution_count": null,
      "outputs": []
    },
    {
      "cell_type": "markdown",
      "source": [
        "7. Створити змінну, що буде посилатися на Ваше прізвище латинкою. Створити форматований рядок, який буде мати вигляд \"My surname is ______\", де на місці нижніх підкреслень буде Ваше прізвище зі змінної."
      ],
      "metadata": {
        "id": "bc997c766e788886"
      }
    },
    {
      "cell_type": "code",
      "source": [
        "surname = \"Panko\"\n",
        "about_me = f\"My surname is {surname}\"\n",
        "print(about_me)"
      ],
      "metadata": {
        "id": "ba75ddd67f15e1a1"
      },
      "execution_count": null,
      "outputs": []
    },
    {
      "cell_type": "markdown",
      "source": [
        "8. Маючи рядок \"My dog is crazy.\" перетворити його на список [\"my\", \"dog\", \"is\", \"crazy\"]"
      ],
      "metadata": {
        "id": "336654148867087f"
      }
    },
    {
      "cell_type": "code",
      "source": [
        "text = \"My dog is crazy.\"\n",
        "words = text.lower().strip('.').split()\n",
        "print(words)"
      ],
      "metadata": {
        "id": "e2da37922a56dc7b",
        "ExecuteTime": {
          "end_time": "2025-02-23T18:20:47.900632Z",
          "start_time": "2025-02-23T18:20:47.897718Z"
        },
        "outputId": "728fb01e-8846-4d59-f297-569348ad11d3"
      },
      "outputs": [
        {
          "name": "stdout",
          "output_type": "stream",
          "text": [
            "['my', 'dog', 'is', 'crazy']\n"
          ]
        }
      ],
      "execution_count": null
    },
    {
      "cell_type": "markdown",
      "source": [
        "# IV. Робота зі списками."
      ],
      "metadata": {
        "id": "11693dd82731c35d"
      }
    },
    {
      "cell_type": "markdown",
      "source": [
        "9. Створити список двома різними за синтаксисом способами. За допомогою вбудованої функції обчисліть довжину одного з них."
      ],
      "metadata": {
        "id": "f8e6c131bed57552"
      }
    },
    {
      "cell_type": "code",
      "source": [
        "l1 = list((1, 2, 3))\n",
        "l2 = [1, 2, 3]\n",
        "print(l1, \": \", len(l1))\n",
        "print(l2, \": \", len(l2))"
      ],
      "metadata": {
        "id": "6d6265c75adf7728",
        "ExecuteTime": {
          "end_time": "2025-02-23T18:22:29.735869Z",
          "start_time": "2025-02-23T18:22:29.732808Z"
        },
        "outputId": "951b3970-0c90-45a0-fd85-253765231638"
      },
      "outputs": [
        {
          "name": "stdout",
          "output_type": "stream",
          "text": [
            "[1, 2, 3] :  3\n",
            "[1, 2, 3] :  3\n"
          ]
        }
      ],
      "execution_count": null
    },
    {
      "cell_type": "markdown",
      "source": [
        "10. Створіть два списка та за допомогою спеціального методу додайте другий з них в якості останнього елемента першого."
      ],
      "metadata": {
        "id": "acce56c71853770a"
      }
    },
    {
      "cell_type": "code",
      "source": [
        "list1 = [1, 2, 3]\n",
        "list2 = [4, 5, 6]\n",
        "list1.append(list2)\n",
        "\n",
        "print(list1)"
      ],
      "metadata": {
        "id": "f3d5034b11dd22e2",
        "ExecuteTime": {
          "end_time": "2025-02-23T18:23:36.095145Z",
          "start_time": "2025-02-23T18:23:36.092297Z"
        },
        "outputId": "d2d2197d-59a6-423a-a952-31df05c757c1"
      },
      "outputs": [
        {
          "name": "stdout",
          "output_type": "stream",
          "text": [
            "[1, 2, 3, [4, 5, 6]]\n"
          ]
        }
      ],
      "execution_count": null
    },
    {
      "cell_type": "markdown",
      "source": [
        "11. Створіть список, де елементами цього списку також є списки. Отримай перший елемент з останнього рядка та виведи значення на екран."
      ],
      "metadata": {
        "id": "b8adb0f10925e31e"
      }
    },
    {
      "cell_type": "code",
      "source": [
        "list_of_lists = [\n",
        "    [1, 2, 3],\n",
        "    [4, 5, 6],\n",
        "    [7, 8, 9]\n",
        "]\n",
        "\n",
        "print(list_of_lists[-1][0])"
      ],
      "metadata": {
        "id": "6ae944d15ebef3bf",
        "ExecuteTime": {
          "end_time": "2025-02-23T18:24:34.696023Z",
          "start_time": "2025-02-23T18:24:34.692792Z"
        },
        "outputId": "63080d00-8556-4598-a120-475b81af4f10"
      },
      "outputs": [
        {
          "name": "stdout",
          "output_type": "stream",
          "text": [
            "7\n"
          ]
        }
      ],
      "execution_count": null
    },
    {
      "cell_type": "markdown",
      "source": [
        "12. Створіть список з десяти елементів різного типу. Отримайте всі елементи, окрім двох перших та двох останніх та збережіть їх в новій змінній."
      ],
      "metadata": {
        "id": "a22e2a150a247a0b"
      }
    },
    {
      "cell_type": "code",
      "source": [
        "mixed_list = [1, \"abc\", 1.0, [1, 2, 3], (1, 2, 3), True, {\"key\": \"value\"}, {1, 2, 3}, None, 1j + 2 ]\n",
        "new_list = mixed_list[2:-2]\n",
        "print(mixed_list)\n",
        "print(new_list)"
      ],
      "metadata": {
        "id": "c04e276d0b28d61",
        "ExecuteTime": {
          "end_time": "2025-02-23T18:34:41.794860Z",
          "start_time": "2025-02-23T18:34:41.791655Z"
        },
        "outputId": "f8e92455-e17d-4221-b360-cea6843829fc"
      },
      "outputs": [
        {
          "name": "stdout",
          "output_type": "stream",
          "text": [
            "[1, 'abc', 1.0, [1, 2, 3], (1, 2, 3), True, {'key': 'value'}, {1, 2, 3}, None, (2+1j)]\n",
            "[1.0, [1, 2, 3], (1, 2, 3), True, {'key': 'value'}, {1, 2, 3}]\n"
          ]
        }
      ],
      "execution_count": null
    },
    {
      "cell_type": "markdown",
      "source": [
        "# V. Робота з кортежами."
      ],
      "metadata": {
        "id": "9d2a6901d39dfcc7"
      }
    },
    {
      "cell_type": "markdown",
      "source": [
        "14. Створити кортеж з один елементом."
      ],
      "metadata": {
        "id": "741aaf5b5e9caad6"
      }
    },
    {
      "cell_type": "code",
      "source": [
        "t = (1,)\n",
        "print(type(t))"
      ],
      "metadata": {
        "id": "2dbaf5e3a3edd3e8",
        "ExecuteTime": {
          "end_time": "2025-02-23T18:37:12.658815Z",
          "start_time": "2025-02-23T18:37:12.656018Z"
        },
        "outputId": "c32c5a65-2323-442a-ddbe-188cbece838c"
      },
      "outputs": [
        {
          "name": "stdout",
          "output_type": "stream",
          "text": [
            "<class 'tuple'>\n"
          ]
        }
      ],
      "execution_count": null
    },
    {
      "cell_type": "markdown",
      "source": [
        "15. Порівняйте список та кортеж. Назвіть схожості та відмінності, випадки використання."
      ],
      "metadata": {
        "id": "52795ed071caea3a"
      }
    },
    {
      "cell_type": "markdown",
      "source": [
        "Списки змінні, використовують більше пам’яті, повільніші, але гнучкіші—можна змінювати елементи, додавати та видаляти їх. Кортежі незмінні, швидші, займають менше пам’яті, але їх не можна редагувати після створення. Обидва підтримують індексацію та ітерацію. Списки використовуються, коли потрібна динамічна структура даних, а кортежі — коли важлива незмінність і швидкість, наприклад, для збереження координат або як ключі в словниках."
      ],
      "metadata": {
        "id": "e3d24064163b001f"
      }
    },
    {
      "cell_type": "markdown",
      "source": [
        "16. Створіть кортеж з 11ти елементів чисел з рухомою комою та отримайте кожен парний за індексом елемент в зворотньому порядку. Наприклад, маючи (1.2, 2.3, 3.3, 4.3, 5.3, 6.3, 7.3, 8.3, 9.3, 0.3), отримати (0.3, 8.3, 6.3, 4.3, 2.3). Результат збережіть в нову змінну та виведіть на екран."
      ],
      "metadata": {
        "id": "13bf50e972dca2a2"
      }
    },
    {
      "cell_type": "code",
      "source": [
        "tuple_of_floats = (1.2, 2.3, 3.3, 4.3, 5.3, 6.3, 7.3, 8.3, 9.3, 0.3)\n",
        "new_tuple = tuple_of_floats[::-2]\n",
        "print(new_tuple)"
      ],
      "metadata": {
        "id": "e789046cf1b8b21d",
        "ExecuteTime": {
          "end_time": "2025-02-23T18:41:16.916353Z",
          "start_time": "2025-02-23T18:41:16.913238Z"
        },
        "outputId": "13ab1a7a-36d1-4fb5-d915-4031d5654af0"
      },
      "outputs": [
        {
          "name": "stdout",
          "output_type": "stream",
          "text": [
            "(0.3, 8.3, 6.3, 4.3, 2.3)\n"
          ]
        }
      ],
      "execution_count": null
    },
    {
      "cell_type": "markdown",
      "source": [
        "# VI. Множини (Set)."
      ],
      "metadata": {
        "id": "c3981e13d0cf8863"
      }
    },
    {
      "cell_type": "markdown",
      "source": [
        "17. Створити множину без елементів. Після цого за допомогою методу додайте кілька різних елементів до множини. Чи множини є змінним типом даних?"
      ],
      "metadata": {
        "id": "1a2e1f86f3ca7d9e"
      }
    },
    {
      "cell_type": "code",
      "source": [
        "empty_set = set()\n",
        "\n",
        "empty_set.add(1)\n",
        "empty_set.add(3.14)\n",
        "empty_set.add(\"hello\")\n",
        "empty_set.add(True)\n",
        "\n",
        "print(empty_set)\n"
      ],
      "metadata": {
        "id": "2bdb69b5377367ae"
      },
      "execution_count": null,
      "outputs": []
    },
    {
      "cell_type": "markdown",
      "source": [
        "Множини є змінним типом.\n"
      ],
      "metadata": {
        "id": "8053e67080432e1a"
      }
    },
    {
      "cell_type": "markdown",
      "source": [
        "18. Створити множину, маючи список my_list = [1, 1, 2, 67, 67, 8, 9]. Пояснити, чому \"зникли\" деякі елементи."
      ],
      "metadata": {
        "id": "31954731fb81759b"
      }
    },
    {
      "cell_type": "code",
      "source": [
        "my_list = [1, 1, 2, 67, 67, 8, 9]\n",
        "my_set = set(my_list)\n",
        "print(my_set)"
      ],
      "metadata": {
        "id": "63c241941af4d24b",
        "ExecuteTime": {
          "end_time": "2025-02-23T18:43:44.791227Z",
          "start_time": "2025-02-23T18:43:44.788640Z"
        },
        "outputId": "d2cf64e9-ca78-48c7-f842-a4f6f5d2b734"
      },
      "outputs": [
        {
          "name": "stdout",
          "output_type": "stream",
          "text": [
            "{1, 2, 67, 8, 9}\n"
          ]
        }
      ],
      "execution_count": null
    },
    {
      "cell_type": "markdown",
      "source": [
        "Множини це колекції унікальних елементів."
      ],
      "metadata": {
        "id": "bf42a8ff030add1e"
      }
    },
    {
      "cell_type": "markdown",
      "source": [
        "19. Створіть дві множини. Продемонстуйте над ними операції: обʼєднання, різниці, пересічі та симетричної різниці. Використовуйте методи, що не змінюють множини, а створюють нові."
      ],
      "metadata": {
        "id": "6354a5b31df09277"
      }
    },
    {
      "cell_type": "code",
      "source": [
        "set1 = {1, 2, 3, 4, 5}\n",
        "set2 = {4, 5, 6, 7, 8}\n",
        "\n",
        "union_result = set1.union(set2)\n",
        "print(\"Union:\", union_result)\n",
        "\n",
        "difference_result = set1.difference(set2)\n",
        "print(\"Difference:\", difference_result)\n",
        "\n",
        "intersection_result = set1.intersection(set2)\n",
        "print(\"Intersection:\", intersection_result)\n",
        "\n",
        "symmetric_difference_result = set1.symmetric_difference(set2)\n",
        "print(\"Symmetric difference:\", symmetric_difference_result)\n"
      ],
      "metadata": {
        "id": "89d354062ab6b6d",
        "ExecuteTime": {
          "end_time": "2025-02-23T18:49:00.767543Z",
          "start_time": "2025-02-23T18:49:00.764225Z"
        },
        "outputId": "51d260e5-11a7-427b-9277-270de922d8d8"
      },
      "outputs": [
        {
          "name": "stdout",
          "output_type": "stream",
          "text": [
            "Union: {1, 2, 3, 4, 5, 6, 7, 8}\n",
            "Difference: {1, 2, 3}\n",
            "Intersection: {4, 5}\n",
            "Symmetric difference: {1, 2, 3, 6, 7, 8}\n"
          ]
        }
      ],
      "execution_count": null
    },
    {
      "cell_type": "markdown",
      "source": [
        "# VII. Словники (Dictionary)."
      ],
      "metadata": {
        "id": "acc1faa34fde48e"
      }
    },
    {
      "cell_type": "markdown",
      "source": [
        "20. Створіть пустий словник. До нього додайте чотири пари елементів такі, щоб їхні ключі були різних типів. Чи може список бути ключем? Чому?"
      ],
      "metadata": {
        "id": "a7db674eda29522b"
      }
    },
    {
      "cell_type": "code",
      "source": [
        "my_dict = {}\n",
        "\n",
        "my_dict[1] = \"integer\"\n",
        "my_dict[\"key\"] = \"string\"\n",
        "my_dict[3.14] = \"float\"\n",
        "my_dict[(1, 2)] = \"tuple\"\n",
        "\n",
        "print(my_dict)"
      ],
      "metadata": {
        "id": "e3c4cec77a7028ed",
        "ExecuteTime": {
          "end_time": "2025-02-23T18:49:38.265292Z",
          "start_time": "2025-02-23T18:49:38.262475Z"
        },
        "outputId": "8cbe031c-4216-4644-832a-659e04b824f8"
      },
      "outputs": [
        {
          "name": "stdout",
          "output_type": "stream",
          "text": [
            "{1: 'integer', 'key': 'string', 3.14: 'float', (1, 2): 'tuple'}\n"
          ]
        }
      ],
      "execution_count": null
    },
    {
      "cell_type": "markdown",
      "source": [
        "Ні, оскільки ключі в словнику повинні бути незмінними (immutable) типами."
      ],
      "metadata": {
        "id": "cc9c1c92f144c16b"
      }
    },
    {
      "cell_type": "markdown",
      "source": [
        "21. Створіть словник, де значенням в одній з пар теж буде словник, який теж має вкладений словник. Виведіть на екран значення, що міститься в словнику, що знаходиться на найнижчому рівні ієрархії вкладеності (найбільш внутрішній)."
      ],
      "metadata": {
        "id": "dfb11c916f800bf7"
      }
    },
    {
      "cell_type": "code",
      "source": [
        "nested_dict = {\n",
        "    \"level1\": {\n",
        "        \"level2\": {\n",
        "            \"level3\": {\n",
        "                \"key\": \"value\"\n",
        "            }\n",
        "        }\n",
        "    }\n",
        "}\n",
        "\n",
        "inner_value = nested_dict[\"level1\"][\"level2\"][\"level3\"][\"key\"]\n",
        "\n",
        "print(inner_value)\n"
      ],
      "metadata": {
        "id": "448221fbab4f8e7c",
        "ExecuteTime": {
          "end_time": "2025-02-23T18:51:57.758962Z",
          "start_time": "2025-02-23T18:51:57.755504Z"
        },
        "colab": {
          "base_uri": "https://localhost:8080/"
        },
        "outputId": "fb552cfa-f2ab-4373-f4d8-a1cb9c9cbaa0"
      },
      "outputs": [
        {
          "output_type": "stream",
          "name": "stdout",
          "text": [
            "value\n"
          ]
        }
      ],
      "execution_count": 2
    },
    {
      "cell_type": "markdown",
      "source": [
        "# Вітаю! Ви велика(ий) молодець, що впоралась(вся). Похваліть себе та побалуйте чимось приємним. Я Вами пишаюся."
      ],
      "metadata": {
        "id": "6aa09dd8f6218f7a"
      }
    }
  ]
}