{
 "nbformat": 4,
 "nbformat_minor": 0,
 "metadata": {
  "colab": {
   "provenance": []
  },
  "kernelspec": {
   "name": "python3",
   "display_name": "Python 3 (ipykernel)",
   "language": "python"
  },
  "language_info": {
   "name": "python"
  }
 },
 "cells": [
  {
   "cell_type": "markdown",
   "source": [
    "# I. OOP"
   ],
   "metadata": {
    "id": "5qV_sehzFCTp"
   }
  },
  {
   "cell_type": "markdown",
   "source": [
    "1. (6б). Створіть клас Building, додайте три атрибути, один з яких має значення за замовчуванням та два методи на свій розсуд."
   ],
   "metadata": {
    "id": "tx_U_hOALyfg"
   }
  },
  {
   "cell_type": "code",
   "source": [
    "class Building:\n",
    "  def __init__(self, number, price, floors = 1):\n",
    "    self.number = number\n",
    "    self.price = price\n",
    "    self.floors = floors\n",
    "\n",
    "  def get_height(self, floor_height):\n",
    "    return floor_height * self.floors\n",
    "\n",
    "  def get_info(self):\n",
    "    print(f\"Building number {self.number} has {self.floors} floors and costs {self.price}.\")"
   ],
   "metadata": {
    "id": "-Vf895KaL88N",
    "ExecuteTime": {
     "end_time": "2025-03-18T16:47:21.792682Z",
     "start_time": "2025-03-18T16:47:21.786279Z"
    }
   },
   "outputs": [],
   "execution_count": 1
  },
  {
   "cell_type": "markdown",
   "source": [
    "2. (2б). Створіть два обʼєкти цього класу, де один з обʼєктів створюється із дефолтним значенням атрибуту. На одному обʼєкті отримайте значення його атрибуту, а на іншому викличте один з його методів."
   ],
   "metadata": {
    "id": "X_UlOMB0L93w"
   }
  },
  {
   "cell_type": "code",
   "source": [
    "house = Building(4, 30000)\n",
    "skyscraper = Building(5, 3000000, 40)\n",
    "\n",
    "print(house.floors)\n",
    "skyscraper.get_info()"
   ],
   "metadata": {
    "id": "7gBu0ESOMCpG",
    "colab": {
     "base_uri": "https://localhost:8080/"
    },
    "outputId": "cd01d30a-47c7-4a12-ec7f-a3e0d7d8502e",
    "ExecuteTime": {
     "end_time": "2025-03-18T16:47:28.636263Z",
     "start_time": "2025-03-18T16:47:28.632550Z"
    }
   },
   "outputs": [
    {
     "name": "stdout",
     "output_type": "stream",
     "text": [
      "1\n",
      "Building number 5 has 40 floors and costs 3000000.\n"
     ]
    }
   ],
   "execution_count": 2
  },
  {
   "cell_type": "markdown",
   "source": [
    "3. (5б). Створіть клас, де атрибути мають різні рівні доступу. Спробуйте отримати їхні значення та опишіть результати."
   ],
   "metadata": {
    "id": "HoqSCZt1MHn5"
   }
  },
  {
   "cell_type": "code",
   "source": [
    "class Animal:\n",
    "  def   __init__(self, name, kind, food):\n",
    "    self.name = name\n",
    "    self._kind = kind\n",
    "    self.__food = food\n",
    "\n",
    "\n",
    "pet = Animal(\"Max\", \"dog\", \"meat\")\n",
    "print(f\"My pet's name is {pet.name},\")\n",
    "print(f\"it is a {pet._kind}\")\n",
    "print(f\"and it likes {pet.__food}\")"
   ],
   "metadata": {
    "id": "r9b3vJxBMSPV",
    "colab": {
     "base_uri": "https://localhost:8080/",
     "height": 216
    },
    "outputId": "35b5770c-9d06-4fb6-a1ad-d79256495d2b",
    "ExecuteTime": {
     "end_time": "2025-03-18T16:47:31.478548Z",
     "start_time": "2025-03-18T16:47:31.197597Z"
    }
   },
   "outputs": [
    {
     "name": "stdout",
     "output_type": "stream",
     "text": [
      "My pet's name is Max,\n",
      "it is a dog\n"
     ]
    },
    {
     "ename": "AttributeError",
     "evalue": "'Animal' object has no attribute '__food'",
     "output_type": "error",
     "traceback": [
      "\u001B[31m---------------------------------------------------------------------------\u001B[39m",
      "\u001B[31mAttributeError\u001B[39m                            Traceback (most recent call last)",
      "\u001B[36mCell\u001B[39m\u001B[36m \u001B[39m\u001B[32mIn[3]\u001B[39m\u001B[32m, line 11\u001B[39m\n\u001B[32m      9\u001B[39m \u001B[38;5;28mprint\u001B[39m(\u001B[33mf\u001B[39m\u001B[33m\"\u001B[39m\u001B[33mMy pet\u001B[39m\u001B[33m'\u001B[39m\u001B[33ms name is \u001B[39m\u001B[38;5;132;01m{\u001B[39;00mpet.name\u001B[38;5;132;01m}\u001B[39;00m\u001B[33m,\u001B[39m\u001B[33m\"\u001B[39m)\n\u001B[32m     10\u001B[39m \u001B[38;5;28mprint\u001B[39m(\u001B[33mf\u001B[39m\u001B[33m\"\u001B[39m\u001B[33mit is a \u001B[39m\u001B[38;5;132;01m{\u001B[39;00mpet._kind\u001B[38;5;132;01m}\u001B[39;00m\u001B[33m\"\u001B[39m)\n\u001B[32m---> \u001B[39m\u001B[32m11\u001B[39m \u001B[38;5;28mprint\u001B[39m(\u001B[33mf\u001B[39m\u001B[33m\"\u001B[39m\u001B[33mand it likes \u001B[39m\u001B[38;5;132;01m{\u001B[39;00m\u001B[43mpet\u001B[49m\u001B[43m.\u001B[49m\u001B[43m__food\u001B[49m\u001B[38;5;132;01m}\u001B[39;00m\u001B[33m\"\u001B[39m)\n",
      "\u001B[31mAttributeError\u001B[39m: 'Animal' object has no attribute '__food'"
     ]
    }
   ],
   "execution_count": 3
  },
  {
   "cell_type": "markdown",
   "source": [
    "Ми маємо доступ до public та protected атрибутів і можемо без проблем подивитись їх значення, але не маємо доступу до атрибутів з рівнем доступу private. При спробі доступитись до приватного атрибуту класу отримуємо AttributeError: 'Animal' object has no attribute '__food'."
   ],
   "metadata": {
    "id": "OK2qk0jddy1c"
   }
  },
  {
   "cell_type": "markdown",
   "source": [
    "4. (7б). Як ви розумієте термін self? Для чого використовується метод __init __?"
   ],
   "metadata": {
    "id": "5op2m2vgMSkZ"
   }
  },
  {
   "cell_type": "markdown",
   "source": [
    "self -- це посилання на поточний екземпляр класу. Воно використовується для доступу до атрибутів і методів об'єкта всередині самого класу.\n",
    "\n",
    "Метод \\_\\_init\\_\\_ використовується для ініціалізації атрибутів об'єкта."
   ],
   "metadata": {
    "id": "DyiPqNRvMasx"
   }
  },
  {
   "cell_type": "markdown",
   "source": [
    "5. (9б). Створіть клас 3D-фігура без атрибутів, з методом get_volume для отримання об'єму фігури, що повертає 0 та __add __, який приймає self та other в якості аргументів, а повертає суму об'ємів 3d-фігур self та other."
   ],
   "metadata": {
    "id": "-6X8EGfjMd2y"
   }
  },
  {
   "cell_type": "code",
   "source": [
    "class Shape3D:\n",
    "  def get_volume(self):\n",
    "    return 0\n",
    "\n",
    "  def __add__(self, other):\n",
    "    return self.get_volume() + other.get_volume()"
   ],
   "metadata": {
    "id": "4rvO_wYUMaEr",
    "ExecuteTime": {
     "end_time": "2025-03-18T16:47:39.453354Z",
     "start_time": "2025-03-18T16:47:39.449629Z"
    }
   },
   "outputs": [],
   "execution_count": 4
  },
  {
   "cell_type": "markdown",
   "source": [
    "6. (11б). Створіть 2 дочірніх класи від 3d-фігура: Циліндр та Куб, які мають атрибути, необхідні для розрахунку об'єму. Визначте метод get_volume в кожному з них так, щоби вони розраховували об'єм у залежності від формули для кожного типу фігури. Створіть обʼєкт класу Циліндр та обʼєкт класу Куб. Виконайте операцію суми за допомогою оператора + між ними, аби знайти сумарний об'єм."
   ],
   "metadata": {
    "id": "SFcKnnv5Mo_z"
   }
  },
  {
   "cell_type": "code",
   "source": [
    "import math\n",
    "\n",
    "class Cylinder(Shape3D):\n",
    "  def __init__(self, height, radius):\n",
    "      self.radius = radius\n",
    "      self.height = height\n",
    "\n",
    "  def get_volume(self):\n",
    "      return math.pi * self.radius ** 2 * self.height\n",
    "\n",
    "class Cube(Shape3D):\n",
    "  def __init__(self, side):\n",
    "      self.side = side\n",
    "\n",
    "  def get_volume(self):\n",
    "      return self.side ** 3\n",
    "\n",
    "\n",
    "cu = Cube(3)\n",
    "cy = Cylinder(5, 2)\n",
    "print(cu + cy)"
   ],
   "metadata": {
    "id": "H3GVNr69Muf3",
    "colab": {
     "base_uri": "https://localhost:8080/"
    },
    "outputId": "e437a991-9778-4c49-9082-9eb1068a7d6e",
    "ExecuteTime": {
     "end_time": "2025-03-18T16:47:41.702756Z",
     "start_time": "2025-03-18T16:47:41.697712Z"
    }
   },
   "outputs": [
    {
     "name": "stdout",
     "output_type": "stream",
     "text": [
      "89.83185307179586\n"
     ]
    }
   ],
   "execution_count": 5
  },
  {
   "cell_type": "markdown",
   "source": [
    "7. (3б). Продемонструйте різницю між isinstance та issubclass."
   ],
   "metadata": {
    "id": "HCvR206YMvLK"
   }
  },
  {
   "cell_type": "code",
   "source": [
    "int_var = 5\n",
    "print(f\"Variable {int_var=} is an instance of {int}: {isinstance(int_var, int)}\")\n",
    "print(f\"Variable {int_var=} is an instance of {str}: {isinstance(int_var, str)}\")\n",
    "print(f\"{str} is an instance of {int}: {isinstance(str, int)}\")\n",
    "print(f\"{int} is an instance of {str}: {isinstance(str, int)}\")\n",
    "print('-'*57)\n",
    "print(f\"{int} is a subclass of {str}: {issubclass(int, str)}\")\n",
    "print(f\"{int} is a subclass of {object}: {issubclass(int, object)}\")\n",
    "print(f\"{str} is a subclass of {object}: {issubclass(str, object)}\")\n",
    "print(f\"{Cube} is a subclass of {Shape3D}: {issubclass(Cube, Shape3D)}\")"
   ],
   "metadata": {
    "id": "L_V1bBvDM0GN",
    "colab": {
     "base_uri": "https://localhost:8080/"
    },
    "outputId": "4d0839bd-9783-4105-aa04-d8fa60b832e8",
    "ExecuteTime": {
     "end_time": "2025-03-18T16:47:44.985066Z",
     "start_time": "2025-03-18T16:47:44.978245Z"
    }
   },
   "outputs": [
    {
     "name": "stdout",
     "output_type": "stream",
     "text": [
      "Variable int_var=5 is an instance of <class 'int'>: True\n",
      "Variable int_var=5 is an instance of <class 'str'>: False\n",
      "<class 'str'> is an instance of <class 'int'>: False\n",
      "<class 'int'> is an instance of <class 'str'>: False\n",
      "---------------------------------------------------------\n",
      "<class 'int'> is a subclass of <class 'str'>: False\n",
      "<class 'int'> is a subclass of <class 'object'>: True\n",
      "<class 'str'> is a subclass of <class 'object'>: True\n",
      "<class '__main__.Cube'> is a subclass of <class '__main__.Shape3D'>: True\n"
     ]
    }
   ],
   "execution_count": 6
  },
  {
   "cell_type": "markdown",
   "source": [
    "8. (13б). Створіть клас EWallet з приватними атрибутами balance та id. Реалізуйте методи поповнення та зняття коштів, забезпечивши належну інкапсуляцію. Підказка: використовуйте декоратори property та setter."
   ],
   "metadata": {
    "id": "jjsaBZ-iM0Qq"
   }
  },
  {
   "cell_type": "code",
   "source": [
    "class EWallet:\n",
    "  def __init__(self, balance, id):\n",
    "    self.__balance = balance\n",
    "    self.__id = id\n",
    "\n",
    "  @property\n",
    "  def balance(self):\n",
    "    return self.__balance\n",
    "\n",
    "  @balance.setter\n",
    "  def balance(self, new_value):\n",
    "    if new_value >= 0:\n",
    "      self.__balance = new_value\n",
    "    else:\n",
    "      print(\"Balance cannot be negative\")\n",
    "\n",
    "  def deposit(self, amount):\n",
    "    if amount > 0:\n",
    "      self.__balance += amount\n",
    "      print(f\"Successfully deposited {amount}. New balance: {self.__balance}\")\n",
    "    else:\n",
    "      print(\"Deposit amount must be positive!\")\n",
    "\n",
    "  def withdraw(self, amount):\n",
    "    if amount > 0:\n",
    "      if amount <= self.__balance:\n",
    "        self.__balance -= amount\n",
    "        print(f\"Successfully withdrew {amount}. New balance: {self.__balance}\")\n",
    "      else:\n",
    "        print(\"Insufficient funds!\")\n",
    "    else:\n",
    "      print(\"Withdrawal amount must be positive!\")"
   ],
   "metadata": {
    "id": "xCvZ7lh8M7YA",
    "ExecuteTime": {
     "end_time": "2025-03-18T16:47:49.488749Z",
     "start_time": "2025-03-18T16:47:49.483788Z"
    }
   },
   "outputs": [],
   "execution_count": 8
  },
  {
   "cell_type": "markdown",
   "source": [
    "9. (11б). Створіть клас ShoppingCart, який містить список об'єктів типу Item. Реалізуйте методи для додавання айтемів, їх видалення та відображення списку айтемів."
   ],
   "metadata": {
    "id": "tIzL2SJTM8ft"
   }
  },
  {
   "cell_type": "code",
   "source": [
    "class Item:\n",
    "  def __init__(self, name, price):\n",
    "    self.name = name\n",
    "    self.price = price\n",
    "\n",
    "\n",
    "class ShoppingCart:\n",
    "  def __init__(self):\n",
    "    self.__items = []\n",
    "\n",
    "  def add_item(self, item):\n",
    "    self.__items.append(item)\n",
    "    print(f\"Added {item.name} to the cart.\")\n",
    "\n",
    "  def remove_item(self, item_name):\n",
    "    for item in self.__items:\n",
    "      if item.name == item_name:\n",
    "        self.__items.remove(item)\n",
    "        print(f\"Removed {item_name} from the cart.\")\n",
    "        return\n",
    "    print(f\"Item {item_name} not found in the cart.\")\n",
    "\n",
    "  def view_cart(self):\n",
    "    if not self.__items:\n",
    "      print(\"Your cart is empty.\")\n",
    "      return\n",
    "    for item in self.__items:\n",
    "      print(item.name, item.price)"
   ],
   "metadata": {
    "id": "HWxfJKLtNAUZ",
    "ExecuteTime": {
     "end_time": "2025-03-18T16:47:51.809140Z",
     "start_time": "2025-03-18T16:47:51.802243Z"
    }
   },
   "outputs": [],
   "execution_count": 9
  },
  {
   "cell_type": "markdown",
   "source": [
    "10. (13б). Створіть клас Vehicle з атрибутами brand (manufacturer) та production_age. Створіть ще один клас Engine з такими атрибутами, як type (ex. petrol) та size (volume, litres). Створіть клас Car, який успадковує обидва класи Vehicle та Engine. Продемонструйте використання множинної спадковості, створивши обʼєкт класу Car та отримавши mro для цього класу."
   ],
   "metadata": {
    "id": "lmV8pAwwNIqu"
   }
  },
  {
   "cell_type": "code",
   "source": [
    "class Vehicle:\n",
    "  def __init__(self, brand, production_age):\n",
    "    self.brand = brand\n",
    "    self.production_age = production_age\n",
    "\n",
    "\n",
    "class Engine:\n",
    "  def __init__(self, engine_type, size):\n",
    "    self.engine_type = engine_type\n",
    "    self.size = size\n",
    "\n",
    "\n",
    "class Car(Vehicle, Engine):\n",
    "  def __init__(self, brand, production_age, engine_type, size):\n",
    "    Vehicle.__init__(self, brand, production_age)\n",
    "    Engine.__init__(self, engine_type, size)\n",
    "\n",
    "\n",
    "car = Car(\"Toyota\", 5, \"petrol\", 2.0)\n",
    "print(Car.mro())"
   ],
   "metadata": {
    "id": "R49grKlWNPeN",
    "colab": {
     "base_uri": "https://localhost:8080/"
    },
    "outputId": "7c59316f-002f-4492-9e11-c8adb09b4c1d",
    "ExecuteTime": {
     "end_time": "2025-03-18T16:47:54.315843Z",
     "start_time": "2025-03-18T16:47:54.310235Z"
    }
   },
   "outputs": [
    {
     "name": "stdout",
     "output_type": "stream",
     "text": [
      "[<class '__main__.Car'>, <class '__main__.Vehicle'>, <class '__main__.Engine'>, <class 'object'>]\n"
     ]
    }
   ],
   "execution_count": 10
  },
  {
   "cell_type": "markdown",
   "source": [
    "# II. Iterator"
   ],
   "metadata": {
    "id": "dIJyUiNBFG8G"
   }
  },
  {
   "cell_type": "markdown",
   "source": [
    "11. (4б). Визначте рядок(str) з 4ма різними за значенням символами. Створіть ітератор на основі цього рядка. Викличте 5 разів функцію next на ітераторі, 4ри перших з них огорніть у ф-цію print()."
   ],
   "metadata": {
    "id": "13vsm0NyKIzL"
   }
  },
  {
   "cell_type": "code",
   "source": [
    "string = \"abc1\"\n",
    "string_iter = iter(string)\n",
    "\n",
    "for i in range(1, 5):\n",
    "  print(f\"{i}th call: {next(string_iter)}\")\n",
    "\n",
    "# string length is only 4 characters, so 5th call is excessive\n",
    "next(string_iter)"
   ],
   "metadata": {
    "id": "81ntabAkKuz-",
    "colab": {
     "base_uri": "https://localhost:8080/",
     "height": 251
    },
    "outputId": "738146f1-55a4-4c1a-83dc-ef4bf136fb8a",
    "ExecuteTime": {
     "end_time": "2025-03-18T16:47:58.858234Z",
     "start_time": "2025-03-18T16:47:58.829518Z"
    }
   },
   "outputs": [
    {
     "name": "stdout",
     "output_type": "stream",
     "text": [
      "1th call: a\n",
      "2th call: b\n",
      "3th call: c\n",
      "4th call: 1\n"
     ]
    },
    {
     "ename": "StopIteration",
     "evalue": "",
     "output_type": "error",
     "traceback": [
      "\u001B[31m---------------------------------------------------------------------------\u001B[39m",
      "\u001B[31mStopIteration\u001B[39m                             Traceback (most recent call last)",
      "\u001B[36mCell\u001B[39m\u001B[36m \u001B[39m\u001B[32mIn[11]\u001B[39m\u001B[32m, line 8\u001B[39m\n\u001B[32m      5\u001B[39m   \u001B[38;5;28mprint\u001B[39m(\u001B[33mf\u001B[39m\u001B[33m\"\u001B[39m\u001B[38;5;132;01m{\u001B[39;00mi\u001B[38;5;132;01m}\u001B[39;00m\u001B[33mth call: \u001B[39m\u001B[38;5;132;01m{\u001B[39;00m\u001B[38;5;28mnext\u001B[39m(string_iter)\u001B[38;5;132;01m}\u001B[39;00m\u001B[33m\"\u001B[39m)\n\u001B[32m      7\u001B[39m \u001B[38;5;66;03m# string length is only 4 characters, so 5th call is excessive\u001B[39;00m\n\u001B[32m----> \u001B[39m\u001B[32m8\u001B[39m \u001B[38;5;28;43mnext\u001B[39;49m\u001B[43m(\u001B[49m\u001B[43mstring_iter\u001B[49m\u001B[43m)\u001B[49m\n",
      "\u001B[31mStopIteration\u001B[39m: "
     ]
    }
   ],
   "execution_count": 11
  },
  {
   "cell_type": "markdown",
   "source": [
    "А що якщо викликати цю ж функцію на рядку?"
   ],
   "metadata": {
    "id": "aekWHGXOLRsO"
   }
  },
  {
   "cell_type": "code",
   "source": [
    "# 'str' object is not an iterator\n",
    "next(string)"
   ],
   "metadata": {
    "id": "mxATGsErLV1i",
    "colab": {
     "base_uri": "https://localhost:8080/",
     "height": 162
    },
    "outputId": "e040d92b-a7d3-4734-9426-1c71e6617b45",
    "ExecuteTime": {
     "end_time": "2025-03-18T16:48:01.850001Z",
     "start_time": "2025-03-18T16:48:01.823606Z"
    }
   },
   "outputs": [
    {
     "ename": "TypeError",
     "evalue": "'str' object is not an iterator",
     "output_type": "error",
     "traceback": [
      "\u001B[31m---------------------------------------------------------------------------\u001B[39m",
      "\u001B[31mTypeError\u001B[39m                                 Traceback (most recent call last)",
      "\u001B[36mCell\u001B[39m\u001B[36m \u001B[39m\u001B[32mIn[12]\u001B[39m\u001B[32m, line 2\u001B[39m\n\u001B[32m      1\u001B[39m \u001B[38;5;66;03m# 'str' object is not an iterator\u001B[39;00m\n\u001B[32m----> \u001B[39m\u001B[32m2\u001B[39m \u001B[38;5;28;43mnext\u001B[39;49m\u001B[43m(\u001B[49m\u001B[43mstring\u001B[49m\u001B[43m)\u001B[49m\n",
      "\u001B[31mTypeError\u001B[39m: 'str' object is not an iterator"
     ]
    }
   ],
   "execution_count": 12
  },
  {
   "cell_type": "markdown",
   "source": [
    " 12. (5б). Опишіть своїми словами в одному реченні, як ви розумієте різницю між ітерабельними обʼєктами та ітераторами (можна на прикладі)."
   ],
   "metadata": {
    "id": "XwtMEopwJ4pH"
   }
  },
  {
   "cell_type": "markdown",
   "source": [
    "Ітерабельні об'єкти -- це об'єкти, які можна використовувати в циклі або передавати в функцію iter(), щоб створити з них ітератори, які, у свою чергу, дозволяють по черзі отримувати елементи цього обʼєкта (наприклад, список є ітерабельним обʼєктом, а його ітератор дозволяє отримувати елементи за допомогою next())."
   ],
   "metadata": {
    "id": "-sHrODc3KFn8"
   }
  },
  {
   "cell_type": "markdown",
   "source": [
    "13. (11б). Створіть клас, що має визначений Iterator Protocol та при кожному виклику next повертає назву дня тижня, поки вони не вичерпаються. Зверніть увагу, що порядок має значення."
   ],
   "metadata": {
    "id": "E9qJWmNbK8Gl"
   }
  },
  {
   "cell_type": "code",
   "source": [
    "class Weekdays:\n",
    "  def __init__(self):\n",
    "    self.days_of_week = [\n",
    "        \"Monday\", \"Tuesday\", \"Wednesday\",\n",
    "        \"Thursday\", \"Friday\", \"Saturday\", \"Sunday\"\n",
    "    ]\n",
    "    self.start = 0\n",
    "\n",
    "  def __iter__(self):\n",
    "    return self\n",
    "\n",
    "  def __next__(self):\n",
    "    if self.start < len(self.days_of_week):\n",
    "      day = self.days_of_week[self.start]\n",
    "      self.start += 1\n",
    "      return day\n",
    "    else:\n",
    "      raise StopIteration\n",
    "\n",
    "week = Weekdays()\n",
    "for i in week:\n",
    "  print(i)"
   ],
   "metadata": {
    "id": "cqx-g_RsLo6I",
    "colab": {
     "base_uri": "https://localhost:8080/"
    },
    "outputId": "a14b7e43-19e1-4f94-d743-45e0369e953b",
    "ExecuteTime": {
     "end_time": "2025-03-18T16:48:04.535114Z",
     "start_time": "2025-03-18T16:48:04.529621Z"
    }
   },
   "outputs": [
    {
     "name": "stdout",
     "output_type": "stream",
     "text": [
      "Monday\n",
      "Tuesday\n",
      "Wednesday\n",
      "Thursday\n",
      "Friday\n",
      "Saturday\n",
      "Sunday\n"
     ]
    }
   ],
   "execution_count": 13
  },
  {
   "cell_type": "markdown",
   "source": [
    "# Вітаю! Ви велика(ий) молодець, що впоралась(вся). Похваліть себе та побалуйте чимось приємним. Я Вами пишаюся."
   ],
   "metadata": {
    "id": "Z3E3S_s1Fv7-"
   }
  }
 ]
}
